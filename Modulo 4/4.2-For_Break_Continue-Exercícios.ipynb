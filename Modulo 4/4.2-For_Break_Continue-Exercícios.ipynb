{
 "cells": [
  {
   "cell_type": "markdown",
   "id": "29e89030",
   "metadata": {},
   "source": [
    "# Módulo 4 - Repetições\n",
    "\n",
    "## Aulas 4.2 - Comando ```for``` e 4.3 Break e Continue"
   ]
  },
  {
   "cell_type": "markdown",
   "id": "a45b42df",
   "metadata": {},
   "source": [
    "### Q1.\n",
    "\n",
    "Crie um programa em Python que utilize o comando for para imprimir os números de 10 a 1, em ordem decrescente."
   ]
  },
  {
   "cell_type": "code",
   "execution_count": null,
   "id": "55a75b3d",
   "metadata": {},
   "outputs": [],
   "source": [
    "## Escreva e execute seu código aqui\n",
    "for i in range(10, 0, -1):\n",
    "    print(i)"
   ]
  },
  {
   "cell_type": "markdown",
   "id": "94b47c36",
   "metadata": {},
   "source": [
    "### Q2.\n",
    "\n",
    "Dado um número inteiro positivo informado pelo usuário, crie um programa em Python que utilize o comando for para calcular e exibir a soma dos números de 1 até o número informado. Ou seja, $1 + 2 + 3 + ... + n$\n",
    "\n",
    "Exemplo de interação:\n",
    "```\n",
    "Digite um número: 5\n",
    "A soma dos números de 1 a 5 é 15\n",
    "```\n"
   ]
  },
  {
   "cell_type": "code",
   "execution_count": null,
   "id": "45b71596",
   "metadata": {},
   "outputs": [],
   "source": [
    "## Escreva e execute seu código aqui\n",
    "x = int(input(\"digite um número... \"))\n",
    "soma = 0\n",
    "for i in range(1, x + 1):\n",
    "    soma = soma + i\n",
    "    \n",
    "print(f\"A soma dos números de 1 a {x} é {soma}\")"
   ]
  },
  {
   "cell_type": "markdown",
   "id": "0411d170",
   "metadata": {},
   "source": [
    "### Q3.\n",
    "\n",
    "Escreva um programa que lê 10 valores inteiros positivos do usuário e ao final imprime a média dos valores digitados com duas casas decimais.\n",
    "\n",
    "```\n",
    "Digite 10 números positivos:\n",
    "3\n",
    "2\n",
    "12\n",
    "14\n",
    "20\n",
    "42\n",
    "19\n",
    "0\n",
    "8\n",
    "1\n",
    "A média dos valores digitados é 12.10\n",
    "```"
   ]
  },
  {
   "cell_type": "code",
   "execution_count": 2,
   "id": "3f72f358",
   "metadata": {},
   "outputs": [
    {
     "name": "stdout",
     "output_type": "stream",
     "text": [
      "Digite 10 números!\n",
      "9\n",
      "52\n",
      "8\n",
      "7\n",
      "62\n",
      "6\n",
      "112\n",
      "5\n",
      "4\n",
      "3\n",
      "2\n",
      "1\n",
      "0\n",
      "A média dos valores com duas casas decimais é 11.2\n"
     ]
    }
   ],
   "source": [
    "## Escreva e execute seu código aqui\n",
    "n = 10 #Quantidade de vezes que o comando while vai ser repetido\n",
    "soma = 0 #valor inicial de \"soma\"\n",
    "número = 0\n",
    "print(\"Digite 10 números!\") #indica a quantidade de números que o usúario deve digitar\n",
    "while n>0: #enquanto \"n\" for maior do que 0\n",
    "    n -= 1 #atualiza o valor de \"n\" subtraindo 1 \n",
    "    número = int(input()) #Lê o valor do número digitado\n",
    "    if número>=10 and número<100 : #se caso o número seja maior ou igual a 10 e menor que 100\n",
    "        soma = soma + número #vai se adicionar o valor desse número a \"soma\"\n",
    "media = soma/10 #calcula a média\n",
    "print(f\"A média dos valores com duas casas decimais é {media}\") #imprime a média"
   ]
  },
  {
   "cell_type": "markdown",
   "id": "d62e27ff",
   "metadata": {},
   "source": [
    "### Q4.\n",
    "\n",
    "Você vai criar um sistema que registra os resultados dos jogos do Atlético MG ao longo de um campeonato. Seu sistema vai receber os resultados de todos os jogos do Galo, e deve calcular a pontuação do time sabendo que vitórias valem 3 pontos, empates 1 ponto e derrotas 0 pontos.\n",
    "\n",
    "Entrada: <br>\n",
    "A primeira linha de entrada é um inteiro N com a quantidade jogos do galo. Para cada jogo você deve ler 2 inteiros, o primeiro com a quantidade de gols do galo e o segundo com a quantidade de gols do time oponente. \n",
    "\n",
    "Saída: <br>\n",
    "Apresente a soma de vitórias, empates e derrotas do galo, junto com o cálculo da pontuação total.\n",
    "\n",
    "Ex:\n",
    "```\n",
    "Entrada:\n",
    "4\n",
    "2\n",
    "0\n",
    "1\n",
    "1\n",
    "0\n",
    "3\n",
    "1\n",
    "0\n",
    "\n",
    "Saída:\n",
    "Vitórias: 2\n",
    "Empates: 1\n",
    "Derrotas: 1\n",
    "Pontuação: 7\n",
    "\n",
    "```\n",
    "\n",
    "\n"
   ]
  },
  {
   "cell_type": "code",
   "execution_count": 2,
   "id": "d3fdfc2a",
   "metadata": {},
   "outputs": [
    {
     "name": "stdout",
     "output_type": "stream",
     "text": [
      "vitótias: 1\n",
      "Empates: 1\n",
      "derrotas: 1\n",
      "pontuação: 4\n"
     ]
    }
   ],
   "source": [
    "## Escreva e execute seu código aqui\n",
    "jogos = int(input(\"digite a quantidade de jogos do Galo... \")) #Lê a quantidade de jogos do galo\n",
    "ponto = 0 #valor inicial\n",
    "win = 0 #valor inicial\n",
    "lose = 0 #valor inicial\n",
    "empt = 0 #valor inicial\n",
    "while jogos>0: #Enquanto o valor de \"jogos\" for maior que 0\n",
    "    jogos -= 1 #atualiza o valor de jogos subtraindo 1\n",
    "    golg = int(input(\"Quantos gols o Galo fez ? \")) #Lê a quantidade de gols do galo\n",
    "    golad = int(input(\"Quantos gols o adversario fez ? \")) #Lê a quantidade de gols do adversario\n",
    "    if golg>golad: #Se o galo tiver mais gols que o adversario\n",
    "        ponto += 3 #adiciona-se 3 à pontuação\n",
    "        win +=1 #adiciona-se 1 a vitorias\n",
    "    elif golg==golad: #se o galo e o adversario tiverem a mesma quantidade de gols\n",
    "        ponto += 1 #adiciona-se 1 à pontuação\n",
    "        empt += 1#adiciona-se 1 a empates\n",
    "    elif golad>golg: #se o adversário tiver mais gols que o galo\n",
    "        ponto += 0 #adiciona-se 0 à pontuação\n",
    "        lose += 1 #adiciona-se 1 a derrotas\n",
    "print(f\"vitótias: {win}\") #imprime a quantidade de vitórias\n",
    "print(f\"Empates: {empt}\") #imprime a quantidade de empates\n",
    "print(f\"derrotas: {lose}\") #imprime a quantidade de derrotas\n",
    "print(f\"pontuação: {ponto}\") #imprime a quantidade de pontos\n",
    "        \n",
    "    \n"
   ]
  },
  {
   "cell_type": "markdown",
   "id": "fc98604d",
   "metadata": {},
   "source": [
    "### Q5.\n",
    "\n",
    "Faça um programa que lê dois inteiros N e M, e imprime na tela um campo de batalha naval. O tabuleiro deve possuir N linhas e M colunas. A primeira linha é composta por um espaço em branco e o cabeçalho das colunas, ou seja, valores de 1 a M. As N linhas seguintes iniciam com o cabeçalho da linha, ou seja, seu número, seguido de M caracteres \"/\" (barra) indicando uma possível posição jogável. \n",
    "\n",
    "```\n",
    "Entrada:\n",
    "5\n",
    "4\n",
    "\n",
    "Saída:\n",
    "  1 2 3 4 \n",
    "1 / / / / \n",
    "2 / / / / \n",
    "3 / / / / \n",
    "4 / / / / \n",
    "5 / / / / \n",
    "```\n",
    "\n",
    "Para esse exercício, precisamos lembrar que o comando print implicitamente adiciona uma quebra de linha ao final da impressão. Podemos interferir no final da impressão adicionando mais uma entrada ao print. No exemplo, finalizamos cada linha com um espaço em branco:\n",
    "```python\n",
    "print(\"Texto qualquer\", end = \" \")\n",
    "```"
   ]
  },
  {
   "cell_type": "code",
   "execution_count": 2,
   "id": "a60ef197",
   "metadata": {},
   "outputs": [
    {
     "name": "stdout",
     "output_type": "stream",
     "text": [
      "  1 2 3 4 5 \n",
      "1 / / / / / \n",
      "2 / / / / / \n",
      "3 / / / / / \n",
      "4 / / / / / \n",
      "5 / / / / / \n"
     ]
    }
   ],
   "source": [
    "## Escreva e execute seu código aqui\n",
    "# Lendo o número de linhas e colunas\n",
    "n = int(input(\"Digite o número de linhas: \")) #Lê o valor de \"n\"\n",
    "m = int(input(\"Digite o número de colunas: \")) #Lê o valor de \"n\"\n",
    "# Imprimindo o cabeçalho das colunas\n",
    "print(\"  \", end=\"\")\n",
    "for i in range(m):\n",
    "    print(i + 1, end=\" \")\n",
    "print()  # Pulando uma linha\n",
    "# Imprimindo o tabuleiro\n",
    "for i in range(n):\n",
    "    # Imprimindo o número da linha\n",
    "    print(i + 1, end=\" \")\n",
    "    # Imprimindo as colunas com \"/\"\n",
    "    for j in range(m):\n",
    "        print(\"/\", end=\" \")\n",
    "    print()  # Pulando para a próxima linha\n",
    "\n",
    "\n"
   ]
  },
  {
   "cell_type": "markdown",
   "id": "4654dc0b",
   "metadata": {},
   "source": [
    "---\n",
    "## Break e Continue"
   ]
  },
  {
   "cell_type": "markdown",
   "id": "24fe9d85",
   "metadata": {},
   "source": [
    "### Q6.\n",
    "\n",
    "Escreva um programa que lê uma quantidade indefinida de valores e informa o maior e o menor valor digitados. A leitura é encerrada quando o usuário digitar o valor 0 (zero).\n",
    "\n",
    "```\n",
    "Entrada:\n",
    "12\n",
    "-1\n",
    "29\n",
    "11\n",
    "-5\n",
    "0\n",
    "\n",
    "Saída:\n",
    "Maior: 29\n",
    "Menor: -5\n",
    "```"
   ]
  },
  {
   "cell_type": "code",
   "execution_count": 17,
   "id": "ee1c466a",
   "metadata": {},
   "outputs": [
    {
     "name": "stdout",
     "output_type": "stream",
     "text": [
      "Maior: 99\n",
      "Menor: -68\n"
     ]
    }
   ],
   "source": [
    "## Escreva e execute seu código aqui\n",
    "maior = 0 #Valor inicial\n",
    "menor = 0 #Valor inicial\n",
    "while True : #Enquanto o comando \"break\" não ocorrer vai se repetir\n",
    "    numero = int(input(\"Digite um número\")) #Lê o valor de \"numero\"\n",
    "    if numero==0: break #Se o \"numero\" for igual a 0 o comando \"break\" é ativado\n",
    "    elif numero>maior: #Se o \"numero\" for maior que \"maior\"\n",
    "        maior = numero #o valor de \"maior\" torna-se equivalente a \"numero\"\n",
    "    elif numero<menor: #Se o \"numero\" for menor que \"menor\"\n",
    "        menor = numero #o valor de \"menor\" torna-se equivalente a \"numero\"\n",
    "print(f\"Maior: {maior}\") #imprime o maior número digitado\n",
    "print(f\"Menor: {menor}\") #imprime o menor número digitado"
   ]
  },
  {
   "cell_type": "markdown",
   "id": "30d486f7",
   "metadata": {},
   "source": [
    "### Q7.\n",
    "\n",
    "Escreva um programa que lê uma quantidade indefinida de valores e informa o **produto** dos valores positivos digitados. A leitura é encerrada quando o usuário digitar o valor 0 (zero).\n",
    "\n",
    "```\n",
    "Entrada:\n",
    "2\n",
    "-1\n",
    "1\n",
    "3\n",
    "-5\n",
    "0\n",
    "\n",
    "Saída:\n",
    "Produto: 6\n",
    "```"
   ]
  },
  {
   "cell_type": "code",
   "execution_count": 18,
   "id": "2f1ac324",
   "metadata": {},
   "outputs": [
    {
     "name": "stdout",
     "output_type": "stream",
     "text": [
      "Produto: 118\n"
     ]
    }
   ],
   "source": [
    "## Escreva e execute seu código aqui\n",
    "soma = 0 #Valor inicial\n",
    "while True: #Enquanto o comando \"break\" não ocorrer vai se repetir\n",
    "    numero = int(input(\"Digite um número... \")) #Lê o valor de \"numero\"\n",
    "    if numero==0: break #Se o \"numero\" for igual a 0 o comando \"break\" é ativado\n",
    "    elif numero>0: #Se o número for maior que 0\n",
    "        soma += numero #Adiciona-se o valor de \"numero\" à \"soma\"\n",
    "print(f\"Produto: {soma}\") #Imprime o valor de \"soma\"\n"
   ]
  },
  {
   "cell_type": "markdown",
   "id": "e932f3cf",
   "metadata": {},
   "source": [
    "### Q8.\n",
    "\n",
    "Vamos fazer uma calculadora que aceita expressões aritméticas de qualquer tamanho até que o usuário digite a palavra \"Fim\". Sua calculadora executa apenas as operações \"+\", \"-\".\n",
    "\n",
    "```\n",
    "Entrada:\n",
    "5\n",
    "+\n",
    "8\n",
    "-\n",
    "3\n",
    "+\n",
    "2\n",
    "Fim\n",
    "\n",
    "Saída:\n",
    "12\n",
    "```"
   ]
  },
  {
   "cell_type": "code",
   "execution_count": 3,
   "id": "e835d870",
   "metadata": {},
   "outputs": [
    {
     "name": "stdout",
     "output_type": "stream",
     "text": [
      "Resultado: 15\n"
     ]
    }
   ],
   "source": [
    "## Escreva e execute seu código aqui\n",
    "n1 = int(input(\"Digite um número...\")) #Lê o valor de n1\n",
    "sinal = str(input(\"Digita o sinal... \")) #Lê \"sinal\"\n",
    "n2 = int(input(\"Digite um número...\")) #Lê o valor de n2\n",
    "if sinal==\"+\" : #se sinal for +\n",
    "    n3 = n1 + n2 #efetua-se esse calculo \n",
    "elif sinal==\"-\": #Se sinal for -\n",
    "    n3 = n1 - n2 #efetua-se esse calculo \n",
    "while True: #Enquanto o comando \"break\" não ocorrer vai se repetir\n",
    "    sinal = str(input(\"Digita o sinal... \")) #Lê \"sinal\"\n",
    "    if sinal == \"fim\": break #Se sinal for \"fim\"\n",
    "    n1 = int(input(\"Digite um número...\")) #Lê o valor de n1\n",
    "    if sinal==\"-\": #Se sinal for -\n",
    "        n3 = n3-n1 #efetua-se esse calculo \n",
    "    elif sinal==\"+\": #Se sinal for +\n",
    "        n3 = n3 + n1 #efetua-se esse calculo \n",
    "print(f\"Resultado: {n3}\") #Imprime o valor final\n"
   ]
  }
 ],
 "metadata": {
  "kernelspec": {
   "display_name": "Python 3 (ipykernel)",
   "language": "python",
   "name": "python3"
  },
  "language_info": {
   "codemirror_mode": {
    "name": "ipython",
    "version": 3
   },
   "file_extension": ".py",
   "mimetype": "text/x-python",
   "name": "python",
   "nbconvert_exporter": "python",
   "pygments_lexer": "ipython3",
   "version": "3.12.4"
  }
 },
 "nbformat": 4,
 "nbformat_minor": 5
}
